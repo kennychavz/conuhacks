{
 "cells": [
  {
   "cell_type": "code",
   "execution_count": 2,
   "metadata": {},
   "outputs": [],
   "source": [
    "import pandas as pd"
   ]
  },
  {
   "cell_type": "code",
   "execution_count": 3,
   "metadata": {},
   "outputs": [],
   "source": [
    "df = pd.read_json(\"AequitasData.json\")"
   ]
  },
  {
   "cell_type": "code",
   "execution_count": 4,
   "metadata": {},
   "outputs": [
    {
     "data": {
      "text/html": [
       "<div>\n",
       "<style scoped>\n",
       "    .dataframe tbody tr th:only-of-type {\n",
       "        vertical-align: middle;\n",
       "    }\n",
       "\n",
       "    .dataframe tbody tr th {\n",
       "        vertical-align: top;\n",
       "    }\n",
       "\n",
       "    .dataframe thead th {\n",
       "        text-align: right;\n",
       "    }\n",
       "</style>\n",
       "<table border=\"1\" class=\"dataframe\">\n",
       "  <thead>\n",
       "    <tr style=\"text-align: right;\">\n",
       "      <th></th>\n",
       "      <th>TimeStamp</th>\n",
       "      <th>TimeStampEpoch</th>\n",
       "      <th>Direction</th>\n",
       "      <th>OrderID</th>\n",
       "      <th>MessageType</th>\n",
       "      <th>Symbol</th>\n",
       "      <th>OrderPrice</th>\n",
       "      <th>Exchange</th>\n",
       "    </tr>\n",
       "  </thead>\n",
       "  <tbody>\n",
       "    <tr>\n",
       "      <th>0</th>\n",
       "      <td>2023-01-06 09:28:00.013814157</td>\n",
       "      <td>2023-01-06 14:28:00.013814157</td>\n",
       "      <td>NBFToExchange</td>\n",
       "      <td>b8c529be-9283-11ed-ad3c-047c16291a22</td>\n",
       "      <td>NewOrderRequest</td>\n",
       "      <td>0455B</td>\n",
       "      <td>13.02</td>\n",
       "      <td>Aequitas</td>\n",
       "    </tr>\n",
       "    <tr>\n",
       "      <th>1</th>\n",
       "      <td>2023-01-06 09:28:00.013890960</td>\n",
       "      <td>2023-01-06 14:28:00.013890960</td>\n",
       "      <td>NBFToExchange</td>\n",
       "      <td>b8c529bf-9283-11ed-a725-047c16291a22</td>\n",
       "      <td>NewOrderRequest</td>\n",
       "      <td>0455B</td>\n",
       "      <td>13.14</td>\n",
       "      <td>Aequitas</td>\n",
       "    </tr>\n",
       "    <tr>\n",
       "      <th>2</th>\n",
       "      <td>2023-01-06 09:28:00.014031152</td>\n",
       "      <td>2023-01-06 14:28:00.014031152</td>\n",
       "      <td>NBFToExchange</td>\n",
       "      <td>b8c529c0-9283-11ed-bf41-047c16291a22</td>\n",
       "      <td>CancelRequest</td>\n",
       "      <td>0455B</td>\n",
       "      <td>NaN</td>\n",
       "      <td>Aequitas</td>\n",
       "    </tr>\n",
       "    <tr>\n",
       "      <th>3</th>\n",
       "      <td>2023-01-06 09:28:00.014086398</td>\n",
       "      <td>2023-01-06 14:28:00.014086398</td>\n",
       "      <td>NBFToExchange</td>\n",
       "      <td>b8c529c1-9283-11ed-8407-047c16291a22</td>\n",
       "      <td>CancelRequest</td>\n",
       "      <td>0455B</td>\n",
       "      <td>NaN</td>\n",
       "      <td>Aequitas</td>\n",
       "    </tr>\n",
       "    <tr>\n",
       "      <th>4</th>\n",
       "      <td>2023-01-06 09:28:00.014213645</td>\n",
       "      <td>2023-01-06 14:28:00.014213645</td>\n",
       "      <td>ExchangeToNBF</td>\n",
       "      <td>b8c529be-9283-11ed-ad3c-047c16291a22</td>\n",
       "      <td>NewOrderAcknowledged</td>\n",
       "      <td>0455B</td>\n",
       "      <td>13.02</td>\n",
       "      <td>Aequitas</td>\n",
       "    </tr>\n",
       "    <tr>\n",
       "      <th>...</th>\n",
       "      <td>...</td>\n",
       "      <td>...</td>\n",
       "      <td>...</td>\n",
       "      <td>...</td>\n",
       "      <td>...</td>\n",
       "      <td>...</td>\n",
       "      <td>...</td>\n",
       "      <td>...</td>\n",
       "    </tr>\n",
       "    <tr>\n",
       "      <th>15606</th>\n",
       "      <td>2023-01-06 09:31:59.981599712</td>\n",
       "      <td>2023-01-06 14:31:59.981599712</td>\n",
       "      <td>ExchangeToNBF</td>\n",
       "      <td>b8c85d1d-9283-11ed-9792-047c16291a22</td>\n",
       "      <td>NewOrderAcknowledged</td>\n",
       "      <td>TKNV7</td>\n",
       "      <td>5.34</td>\n",
       "      <td>Aequitas</td>\n",
       "    </tr>\n",
       "    <tr>\n",
       "      <th>15607</th>\n",
       "      <td>2023-01-06 09:31:59.988733108</td>\n",
       "      <td>2023-01-06 14:31:59.988733108</td>\n",
       "      <td>NBFToExchange</td>\n",
       "      <td>b8c85d07-9283-11ed-a6e5-047c16291a22</td>\n",
       "      <td>CancelRequest</td>\n",
       "      <td>NH4B9</td>\n",
       "      <td>NaN</td>\n",
       "      <td>Aequitas</td>\n",
       "    </tr>\n",
       "    <tr>\n",
       "      <th>15608</th>\n",
       "      <td>2023-01-06 09:31:59.988827123</td>\n",
       "      <td>2023-01-06 14:31:59.988827123</td>\n",
       "      <td>NBFToExchange</td>\n",
       "      <td>b8c85d1e-9283-11ed-888f-047c16291a22</td>\n",
       "      <td>NewOrderRequest</td>\n",
       "      <td>NH4B9</td>\n",
       "      <td>47.20</td>\n",
       "      <td>Aequitas</td>\n",
       "    </tr>\n",
       "    <tr>\n",
       "      <th>15609</th>\n",
       "      <td>2023-01-06 09:31:59.989109549</td>\n",
       "      <td>2023-01-06 14:31:59.989109549</td>\n",
       "      <td>ExchangeToNBF</td>\n",
       "      <td>b8c85d07-9283-11ed-a6e5-047c16291a22</td>\n",
       "      <td>Cancelled</td>\n",
       "      <td>NH4B9</td>\n",
       "      <td>NaN</td>\n",
       "      <td>Aequitas</td>\n",
       "    </tr>\n",
       "    <tr>\n",
       "      <th>15610</th>\n",
       "      <td>2023-01-06 09:31:59.989216489</td>\n",
       "      <td>2023-01-06 14:31:59.989216489</td>\n",
       "      <td>ExchangeToNBF</td>\n",
       "      <td>b8c85d1e-9283-11ed-888f-047c16291a22</td>\n",
       "      <td>NewOrderAcknowledged</td>\n",
       "      <td>NH4B9</td>\n",
       "      <td>47.20</td>\n",
       "      <td>Aequitas</td>\n",
       "    </tr>\n",
       "  </tbody>\n",
       "</table>\n",
       "<p>15611 rows × 8 columns</p>\n",
       "</div>"
      ],
      "text/plain": [
       "                          TimeStamp                TimeStampEpoch  \\\n",
       "0     2023-01-06 09:28:00.013814157 2023-01-06 14:28:00.013814157   \n",
       "1     2023-01-06 09:28:00.013890960 2023-01-06 14:28:00.013890960   \n",
       "2     2023-01-06 09:28:00.014031152 2023-01-06 14:28:00.014031152   \n",
       "3     2023-01-06 09:28:00.014086398 2023-01-06 14:28:00.014086398   \n",
       "4     2023-01-06 09:28:00.014213645 2023-01-06 14:28:00.014213645   \n",
       "...                             ...                           ...   \n",
       "15606 2023-01-06 09:31:59.981599712 2023-01-06 14:31:59.981599712   \n",
       "15607 2023-01-06 09:31:59.988733108 2023-01-06 14:31:59.988733108   \n",
       "15608 2023-01-06 09:31:59.988827123 2023-01-06 14:31:59.988827123   \n",
       "15609 2023-01-06 09:31:59.989109549 2023-01-06 14:31:59.989109549   \n",
       "15610 2023-01-06 09:31:59.989216489 2023-01-06 14:31:59.989216489   \n",
       "\n",
       "           Direction                               OrderID  \\\n",
       "0      NBFToExchange  b8c529be-9283-11ed-ad3c-047c16291a22   \n",
       "1      NBFToExchange  b8c529bf-9283-11ed-a725-047c16291a22   \n",
       "2      NBFToExchange  b8c529c0-9283-11ed-bf41-047c16291a22   \n",
       "3      NBFToExchange  b8c529c1-9283-11ed-8407-047c16291a22   \n",
       "4      ExchangeToNBF  b8c529be-9283-11ed-ad3c-047c16291a22   \n",
       "...              ...                                   ...   \n",
       "15606  ExchangeToNBF  b8c85d1d-9283-11ed-9792-047c16291a22   \n",
       "15607  NBFToExchange  b8c85d07-9283-11ed-a6e5-047c16291a22   \n",
       "15608  NBFToExchange  b8c85d1e-9283-11ed-888f-047c16291a22   \n",
       "15609  ExchangeToNBF  b8c85d07-9283-11ed-a6e5-047c16291a22   \n",
       "15610  ExchangeToNBF  b8c85d1e-9283-11ed-888f-047c16291a22   \n",
       "\n",
       "                MessageType Symbol  OrderPrice  Exchange  \n",
       "0           NewOrderRequest  0455B       13.02  Aequitas  \n",
       "1           NewOrderRequest  0455B       13.14  Aequitas  \n",
       "2             CancelRequest  0455B         NaN  Aequitas  \n",
       "3             CancelRequest  0455B         NaN  Aequitas  \n",
       "4      NewOrderAcknowledged  0455B       13.02  Aequitas  \n",
       "...                     ...    ...         ...       ...  \n",
       "15606  NewOrderAcknowledged  TKNV7        5.34  Aequitas  \n",
       "15607         CancelRequest  NH4B9         NaN  Aequitas  \n",
       "15608       NewOrderRequest  NH4B9       47.20  Aequitas  \n",
       "15609             Cancelled  NH4B9         NaN  Aequitas  \n",
       "15610  NewOrderAcknowledged  NH4B9       47.20  Aequitas  \n",
       "\n",
       "[15611 rows x 8 columns]"
      ]
     },
     "execution_count": 4,
     "metadata": {},
     "output_type": "execute_result"
    }
   ],
   "source": [
    "df"
   ]
  },
  {
   "cell_type": "code",
   "execution_count": 5,
   "metadata": {},
   "outputs": [
    {
     "data": {
      "text/plain": [
       "<bound method DataFrame.info of                           TimeStamp                TimeStampEpoch  \\\n",
       "0     2023-01-06 09:28:00.013814157 2023-01-06 14:28:00.013814157   \n",
       "1     2023-01-06 09:28:00.013890960 2023-01-06 14:28:00.013890960   \n",
       "2     2023-01-06 09:28:00.014031152 2023-01-06 14:28:00.014031152   \n",
       "3     2023-01-06 09:28:00.014086398 2023-01-06 14:28:00.014086398   \n",
       "4     2023-01-06 09:28:00.014213645 2023-01-06 14:28:00.014213645   \n",
       "...                             ...                           ...   \n",
       "15606 2023-01-06 09:31:59.981599712 2023-01-06 14:31:59.981599712   \n",
       "15607 2023-01-06 09:31:59.988733108 2023-01-06 14:31:59.988733108   \n",
       "15608 2023-01-06 09:31:59.988827123 2023-01-06 14:31:59.988827123   \n",
       "15609 2023-01-06 09:31:59.989109549 2023-01-06 14:31:59.989109549   \n",
       "15610 2023-01-06 09:31:59.989216489 2023-01-06 14:31:59.989216489   \n",
       "\n",
       "           Direction                               OrderID  \\\n",
       "0      NBFToExchange  b8c529be-9283-11ed-ad3c-047c16291a22   \n",
       "1      NBFToExchange  b8c529bf-9283-11ed-a725-047c16291a22   \n",
       "2      NBFToExchange  b8c529c0-9283-11ed-bf41-047c16291a22   \n",
       "3      NBFToExchange  b8c529c1-9283-11ed-8407-047c16291a22   \n",
       "4      ExchangeToNBF  b8c529be-9283-11ed-ad3c-047c16291a22   \n",
       "...              ...                                   ...   \n",
       "15606  ExchangeToNBF  b8c85d1d-9283-11ed-9792-047c16291a22   \n",
       "15607  NBFToExchange  b8c85d07-9283-11ed-a6e5-047c16291a22   \n",
       "15608  NBFToExchange  b8c85d1e-9283-11ed-888f-047c16291a22   \n",
       "15609  ExchangeToNBF  b8c85d07-9283-11ed-a6e5-047c16291a22   \n",
       "15610  ExchangeToNBF  b8c85d1e-9283-11ed-888f-047c16291a22   \n",
       "\n",
       "                MessageType Symbol  OrderPrice  Exchange  \n",
       "0           NewOrderRequest  0455B       13.02  Aequitas  \n",
       "1           NewOrderRequest  0455B       13.14  Aequitas  \n",
       "2             CancelRequest  0455B         NaN  Aequitas  \n",
       "3             CancelRequest  0455B         NaN  Aequitas  \n",
       "4      NewOrderAcknowledged  0455B       13.02  Aequitas  \n",
       "...                     ...    ...         ...       ...  \n",
       "15606  NewOrderAcknowledged  TKNV7        5.34  Aequitas  \n",
       "15607         CancelRequest  NH4B9         NaN  Aequitas  \n",
       "15608       NewOrderRequest  NH4B9       47.20  Aequitas  \n",
       "15609             Cancelled  NH4B9         NaN  Aequitas  \n",
       "15610  NewOrderAcknowledged  NH4B9       47.20  Aequitas  \n",
       "\n",
       "[15611 rows x 8 columns]>"
      ]
     },
     "execution_count": 5,
     "metadata": {},
     "output_type": "execute_result"
    }
   ],
   "source": [
    "df.info"
   ]
  },
  {
   "cell_type": "code",
   "execution_count": 6,
   "metadata": {},
   "outputs": [
    {
     "data": {
      "text/plain": [
       "<bound method NDFrame.describe of                           TimeStamp                TimeStampEpoch  \\\n",
       "0     2023-01-06 09:28:00.013814157 2023-01-06 14:28:00.013814157   \n",
       "1     2023-01-06 09:28:00.013890960 2023-01-06 14:28:00.013890960   \n",
       "2     2023-01-06 09:28:00.014031152 2023-01-06 14:28:00.014031152   \n",
       "3     2023-01-06 09:28:00.014086398 2023-01-06 14:28:00.014086398   \n",
       "4     2023-01-06 09:28:00.014213645 2023-01-06 14:28:00.014213645   \n",
       "...                             ...                           ...   \n",
       "15606 2023-01-06 09:31:59.981599712 2023-01-06 14:31:59.981599712   \n",
       "15607 2023-01-06 09:31:59.988733108 2023-01-06 14:31:59.988733108   \n",
       "15608 2023-01-06 09:31:59.988827123 2023-01-06 14:31:59.988827123   \n",
       "15609 2023-01-06 09:31:59.989109549 2023-01-06 14:31:59.989109549   \n",
       "15610 2023-01-06 09:31:59.989216489 2023-01-06 14:31:59.989216489   \n",
       "\n",
       "           Direction                               OrderID  \\\n",
       "0      NBFToExchange  b8c529be-9283-11ed-ad3c-047c16291a22   \n",
       "1      NBFToExchange  b8c529bf-9283-11ed-a725-047c16291a22   \n",
       "2      NBFToExchange  b8c529c0-9283-11ed-bf41-047c16291a22   \n",
       "3      NBFToExchange  b8c529c1-9283-11ed-8407-047c16291a22   \n",
       "4      ExchangeToNBF  b8c529be-9283-11ed-ad3c-047c16291a22   \n",
       "...              ...                                   ...   \n",
       "15606  ExchangeToNBF  b8c85d1d-9283-11ed-9792-047c16291a22   \n",
       "15607  NBFToExchange  b8c85d07-9283-11ed-a6e5-047c16291a22   \n",
       "15608  NBFToExchange  b8c85d1e-9283-11ed-888f-047c16291a22   \n",
       "15609  ExchangeToNBF  b8c85d07-9283-11ed-a6e5-047c16291a22   \n",
       "15610  ExchangeToNBF  b8c85d1e-9283-11ed-888f-047c16291a22   \n",
       "\n",
       "                MessageType Symbol  OrderPrice  Exchange  \n",
       "0           NewOrderRequest  0455B       13.02  Aequitas  \n",
       "1           NewOrderRequest  0455B       13.14  Aequitas  \n",
       "2             CancelRequest  0455B         NaN  Aequitas  \n",
       "3             CancelRequest  0455B         NaN  Aequitas  \n",
       "4      NewOrderAcknowledged  0455B       13.02  Aequitas  \n",
       "...                     ...    ...         ...       ...  \n",
       "15606  NewOrderAcknowledged  TKNV7        5.34  Aequitas  \n",
       "15607         CancelRequest  NH4B9         NaN  Aequitas  \n",
       "15608       NewOrderRequest  NH4B9       47.20  Aequitas  \n",
       "15609             Cancelled  NH4B9         NaN  Aequitas  \n",
       "15610  NewOrderAcknowledged  NH4B9       47.20  Aequitas  \n",
       "\n",
       "[15611 rows x 8 columns]>"
      ]
     },
     "execution_count": 6,
     "metadata": {},
     "output_type": "execute_result"
    }
   ],
   "source": [
    "df.describe"
   ]
  },
  {
   "cell_type": "code",
   "execution_count": 9,
   "metadata": {},
   "outputs": [
    {
     "data": {
      "text/plain": [
       "<AxesSubplot:>"
      ]
     },
     "execution_count": 9,
     "metadata": {},
     "output_type": "execute_result"
    },
    {
     "data": {
      "image/png": "[encoded data removed]",
      "text/plain": [
       "<Figure size 640x480 with 1 Axes>"
      ]
     },
     "metadata": {},
     "output_type": "display_data"
    },
    {
     "data": {
      "image/png": "[encoded data removed]",
      "text/plain": [
       "<Figure size 640x480 with 1 Axes>"
      ]
     },
     "metadata": {},
     "output_type": "display_data"
    }
   ],
   "source": [
    "for name, group in grouped:\n",
    "    group_df = pd.DataFrame(group)"
   ]
  }
 ],
 "metadata": {
  "kernelspec": {
   "display_name": "Python 3 (ipykernel)",
   "language": "python",
   "name": "python3"
  },
  "language_info": {
   "codemirror_mode": {
    "name": "ipython",
    "version": 3
   },
   "file_extension": ".py",
   "mimetype": "text/x-python",
   "name": "python",
   "nbconvert_exporter": "python",
   "pygments_lexer": "ipython3",
   "version": "3.9.1"
  },
  "toc": {
   "base_numbering": 1,
   "nav_menu": {},
   "number_sections": true,
   "sideBar": true,
   "skip_h1_title": false,
   "title_cell": "Table of Contents",
   "title_sidebar": "Contents",
   "toc_cell": false,
   "toc_position": {},
   "toc_section_display": true,
   "toc_window_display": false
  },
  "vscode": {
   "interpreter": {
    "hash": "ee9a8aa8a453a6432f8efca1c9ec64af67ab9a7560f29194d992ee041af3a2b3"
   }
  }
 },
 "nbformat": 4,
 "nbformat_minor": 2
}
